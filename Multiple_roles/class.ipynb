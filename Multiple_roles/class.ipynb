{
 "cells": [
  {
   "cell_type": "code",
   "execution_count": 1,
   "metadata": {},
   "outputs": [],
   "source": [
    "from openai import OpenAI\n",
    "from dotenv import load_dotenv, find_dotenv\n",
    "\n",
    "_ : bool = load_dotenv(find_dotenv()) # read local .env file\n",
    "\n",
    "client : OpenAI = OpenAI()"
   ]
  },
  {
   "cell_type": "code",
   "execution_count": 5,
   "metadata": {},
   "outputs": [
    {
     "name": "stdout",
     "output_type": "stream",
     "text": [
      "In the realm of code, there lies a wondrous loop,\n",
      "A concept so profound, it makes the mind swoop.\n",
      "Recursion, it's called, a magical device,\n",
      "Unraveling mysteries, oh, so precise.\n",
      "\n",
      "Like a Russian doll nested inside another,\n",
      "A function calls itself, oh what a bother!\n",
      "But wait, there's beauty in this tangled dance,\n",
      "A pattern emerges, a hypnotic trance.\n",
      "\n",
      "Each call spawns another, a chain unbroken,\n",
      "A loop within a loop, a truth unspoken.\n",
      "Like echoes in a canyon, repeating sound,\n",
      "Recursion unfolds, its wonders abound.\n",
      "\n",
      "As problems shrink, and solutions unfold,\n",
      "Recursion weaves stories, both new and old.\n",
      "Infinite depth, a mesmerizing swirl,\n",
      "Recursion, the essence of a recursive world.\n",
      "\n",
      "So dive deep into the recursive abyss,\n",
      "Let your mind wander, in sweet reminisce.\n",
      "For in this dance of function and call,\n",
      "Lies the magic of recursion, captivating all.\n"
     ]
    }
   ],
   "source": [
    "from openai.types.chat.chat_completion import ChatCompletion\n",
    "\n",
    "def chat_completion()->str:\n",
    "  completion : ChatCompletion = client.chat.completions.create(\n",
    "    model  = \"gpt-3.5-turbo-1106\",\n",
    "    messages= [\n",
    "      {\"role\": \"system\", \"content\": \"You are a poetic assistant, skilled in explaining complex programming concepts with creative flair.\"},\n",
    "      {\"role\": \"user\", \"content\": \"Compose a poem that explains the concept of recursion in programming.\"}\n",
    "    ]\n",
    "  )\n",
    "\n",
    "  return completion.choices[0].message.content\n",
    "\n",
    "print(chat_completion())"
   ]
  }
 ],
 "metadata": {
  "kernelspec": {
   "display_name": "py12",
   "language": "python",
   "name": "python3"
  },
  "language_info": {
   "codemirror_mode": {
    "name": "ipython",
    "version": 3
   },
   "file_extension": ".py",
   "mimetype": "text/x-python",
   "name": "python",
   "nbconvert_exporter": "python",
   "pygments_lexer": "ipython3",
   "version": "3.12.0"
  }
 },
 "nbformat": 4,
 "nbformat_minor": 2
}
