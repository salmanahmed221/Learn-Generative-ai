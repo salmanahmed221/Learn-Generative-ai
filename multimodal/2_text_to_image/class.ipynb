{
 "cells": [
  {
   "cell_type": "code",
   "execution_count": 1,
   "metadata": {},
   "outputs": [],
   "source": [
    "from openai import OpenAI\n",
    "from dotenv import load_dotenv, find_dotenv\n",
    "_ : bool = load_dotenv(find_dotenv()) # \n",
    "\n",
    "client: OpenAI = OpenAI()"
   ]
  },
  {
   "cell_type": "markdown",
   "metadata": {},
   "source": [
    "# Generate new image"
   ]
  },
  {
   "cell_type": "code",
   "execution_count": 7,
   "metadata": {},
   "outputs": [
    {
     "name": "stdout",
     "output_type": "stream",
     "text": [
      "https://oaidalleapiprodscus.blob.core.windows.net/private/org-NViyDjD6EmpPsgaPAlNfSslA/user-b1tILeHkA5hSHqIrxiUhdijn/img-vSBgXwD9bJtPU4Z6bm5ncty3.png?st=2023-12-15T07%3A58%3A43Z&se=2023-12-15T09%3A58%3A43Z&sp=r&sv=2021-08-06&sr=b&rscd=inline&rsct=image/png&skoid=6aaadede-4fb3-4698-a8f6-684d7786b067&sktid=a48cca56-e6da-484e-a814-9c849652bcb3&skt=2023-12-15T05%3A41%3A45Z&ske=2023-12-16T05%3A41%3A45Z&sks=b&skv=2021-08-06&sig=A/IlvDaP2BzbwApRaU/beTVpjj7HcOIDURJ%2BuMKfGNE%3D\n"
     ]
    }
   ],
   "source": [
    "file_name:str = \"image.png\"\n",
    "\n",
    "response = client.images.generate(\n",
    "  model=\"dall-e-3\",\n",
    "  prompt=\"a white elephant playing the violen\",\n",
    "  size=\"1024x1024\",\n",
    "  quality=\"standard\",\n",
    "  style=\"vivid\",\n",
    "  n=1,\n",
    ")\n",
    "\n",
    "image_url:str = response.data[0].url\n",
    "\n",
    "print(image_url)\n",
    "# save image to file"
   ]
  },
  {
   "cell_type": "code",
   "execution_count": 8,
   "metadata": {},
   "outputs": [],
   "source": [
    "import requests\n",
    "from PIL import Image\n",
    "\n",
    "response = requests.get(image_url)\n",
    "\n",
    "# save image to file    \n",
    "with open(file_name, 'wb') as f:\n",
    "    f.write(response.content)\n",
    "\n",
    "# open image\n",
    "image:Image = Image.open(file_name)\n",
    "image.show()"
   ]
  },
  {
   "cell_type": "markdown",
   "metadata": {},
   "source": [
    "# Edits (DALL·E 2 only)"
   ]
  },
  {
   "cell_type": "code",
   "execution_count": null,
   "metadata": {},
   "outputs": [],
   "source": [
    "image = open(\"background_image.png\", \"rb\")\n",
    "mask = open(\"masked.png\", \"rb\")\n",
    "\n",
    "response = client.images.edit(\n",
    "    model=\"dall-e-2\",\n",
    "    image=image,\n",
    "    mask=mask,\n",
    "    prompt=\"A sunlit indoor lounge area with a pool containing a flamingo\",\n",
    "    size=\"512x512\",\n",
    "    n=1,\n",
    ")\n",
    "print(response)\n",
    "image_url = response.data[0].url\n",
    "print(image_url)"
   ]
  },
  {
   "cell_type": "markdown",
   "metadata": {},
   "source": [
    "# Variation (DALL-E 2 Only)"
   ]
  },
  {
   "cell_type": "code",
   "execution_count": 10,
   "metadata": {},
   "outputs": [
    {
     "name": "stdout",
     "output_type": "stream",
     "text": [
      "https://oaidalleapiprodscus.blob.core.windows.net/private/org-NViyDjD6EmpPsgaPAlNfSslA/user-b1tILeHkA5hSHqIrxiUhdijn/img-IS7Ke2RFj8phuq3g1wV8HwOw.png?st=2023-12-15T08%3A40%3A43Z&se=2023-12-15T10%3A40%3A43Z&sp=r&sv=2021-08-06&sr=b&rscd=inline&rsct=image/png&skoid=6aaadede-4fb3-4698-a8f6-684d7786b067&sktid=a48cca56-e6da-484e-a814-9c849652bcb3&skt=2023-12-14T19%3A44%3A59Z&ske=2023-12-15T19%3A44%3A59Z&sks=b&skv=2021-08-06&sig=rqA/XKQGxZrYgB06u5BR3kNNYbUENVipboKke2ICPp0%3D\n"
     ]
    }
   ],
   "source": [
    "response = client.images.create_variation(\n",
    "  model=\"dall-e-2\",  \n",
    "  image=open(\"image.png\", \"rb\"),\n",
    "  n=1,\n",
    "  size=\"1024x1024\"\n",
    ")\n",
    "\n",
    "image_url = response.data[0].url\n",
    "print(image_url)"
   ]
  }
 ],
 "metadata": {
  "kernelspec": {
   "display_name": "py12",
   "language": "python",
   "name": "python3"
  },
  "language_info": {
   "codemirror_mode": {
    "name": "ipython",
    "version": 3
   },
   "file_extension": ".py",
   "mimetype": "text/x-python",
   "name": "python",
   "nbconvert_exporter": "python",
   "pygments_lexer": "ipython3",
   "version": "3.12.0"
  }
 },
 "nbformat": 4,
 "nbformat_minor": 2
}
